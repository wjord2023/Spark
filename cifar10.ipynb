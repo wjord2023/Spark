{
 "cells": [
  {
   "cell_type": "code",
   "execution_count": 1,
   "metadata": {},
   "outputs": [
    {
     "name": "stdout",
     "output_type": "stream",
     "text": [
      "Files already downloaded and verified\n",
      "Files already downloaded and verified\n"
     ]
    }
   ],
   "source": [
    "import torch\n",
    "import torchvision\n",
    "import torchvision.transforms as transforms\n",
    "\n",
    "transform_train = transforms.Compose([\n",
    "    transforms.RandomCrop(32, padding=4),\n",
    "    transforms.RandomHorizontalFlip(),\n",
    "    transforms.ToTensor(),\n",
    "    transforms.Normalize((0.5, 0.5, 0.5), (0.5, 0.5, 0.5)),\n",
    "])\n",
    "\n",
    "trainset = torchvision.datasets.CIFAR10(root='./data', train=True, download=True, transform=transform_train)\n",
    "trainloader = torch.utils.data.DataLoader(trainset, batch_size=4, shuffle=True, num_workers=4) # type: ignore\n",
    "\n",
    "transform_test = transforms.Compose([\n",
    "    transforms.ToTensor(),\n",
    "    transforms.Normalize((0.5, 0.5, 0.5), (0.5, 0.5, 0.5))\n",
    "])\n",
    "\n",
    "testset = torchvision.datasets.CIFAR10(root='./data', train=False, download=True, transform=transform_test)\n",
    "testloader = torch.utils.data.DataLoader(testset, batch_size=4, shuffle=False, num_workers=2) # type: ignore"
   ]
  },
  {
   "cell_type": "code",
   "execution_count": 2,
   "metadata": {},
   "outputs": [
    {
     "name": "stdout",
     "output_type": "stream",
     "text": [
      "Cleared all content in runs/cifar10\n"
     ]
    }
   ],
   "source": [
    "from torch.utils.tensorboard import SummaryWriter  # type: ignore\n",
    "\n",
    "from tensorboard_tools import matplotlib_imshow, clear_tensorboard_runs\n",
    "\n",
    "clear_tensorboard_runs(\"runs/cifar10\")\n",
    "\n",
    "writer = SummaryWriter(\"runs/cifar10\")"
   ]
  },
  {
   "cell_type": "code",
   "execution_count": 3,
   "metadata": {},
   "outputs": [
    {
     "data": {
      "image/png": "[encoded data removed]",
      "text/plain": [
       "<Figure size 640x480 with 1 Axes>"
      ]
     },
     "metadata": {},
     "output_type": "display_data"
    }
   ],
   "source": [
    "dataiter = iter(trainloader)\n",
    "images, labels = next(dataiter)\n",
    "\n",
    "img_grid = torchvision.utils.make_grid(images)\n",
    "\n",
    "matplotlib_imshow(img_grid, one_channel=False)"
   ]
  },
  {
   "cell_type": "code",
   "execution_count": 4,
   "metadata": {},
   "outputs": [],
   "source": [
    "from cvit.model import Net\n",
    "\n",
    "net = Net()\n",
    "writer.add_graph(net, images)\n",
    "writer.close()"
   ]
  },
  {
   "cell_type": "code",
   "execution_count": 5,
   "metadata": {},
   "outputs": [],
   "source": [
    "optimizer = torch.optim.SGD(net.parameters(), lr=0.001, momentum=0.9, weight_decay=5e-4)\n",
    "scheduler = torch.optim.lr_scheduler.StepLR(optimizer, step_size=10, gamma=0.1)\n",
    "criterion = torch.nn.CrossEntropyLoss()"
   ]
  },
  {
   "cell_type": "code",
   "execution_count": null,
   "metadata": {},
   "outputs": [],
   "source": [
    "from general_trainer.trainer import GeneralTrainer\n",
    "from general_trainer.optim_schedule import ScheduleOptim\n",
    "\n",
    "\n",
    "def cal_loss(data, net):\n",
    "    input_tensor = data[0].to(\"cuda\")\n",
    "    target = data[1].to(\"cuda\")\n",
    "    \n",
    "    output = net(input_tensor)\n",
    "    loss = criterion(output, target)\n",
    "    return output, loss\n",
    "\n",
    "\n",
    "def cal_correct(data, output):\n",
    "    target = data[1].to(\"cuda\")\n",
    "    _, predicted = torch.max(output, 1)\n",
    "    correct = (predicted == target).sum().item()\n",
    "    element_count = target.size(0)\n",
    "    return correct, element_count\n",
    "\n",
    "optim_scheduler = ScheduleOptim(optimizer, scheduler=scheduler)\n",
    "\n",
    "trainer = GeneralTrainer(\n",
    "    net,\n",
    "    criterion,\n",
    "    trainloader,\n",
    "    optimizer,\n",
    "    testloader,\n",
    "    scheduler=optim_scheduler,\n",
    "    cal_loss=cal_loss,\n",
    "    cal_correct=cal_correct,\n",
    "    writer=writer,\n",
    ")\n",
    "trainer.training(150)"
   ]
  },
  {
   "cell_type": "code",
   "execution_count": 4,
   "metadata": {},
   "outputs": [
    {
     "name": "stdout",
     "output_type": "stream",
     "text": [
      "Files already downloaded and verified\n",
      "Accuracy: 89.99%\n"
     ]
    }
   ],
   "source": [
    "import torch\n",
    "import torchvision\n",
    "import torchvision.transforms as transforms\n",
    "from cvit.model import Net\n",
    "\n",
    "model = Net()\n",
    "model.load_state_dict(torch.load(\"model_26.pth\"))\n",
    "\n",
    "transform_test = transforms.Compose(\n",
    "    [transforms.ToTensor(), transforms.Normalize((0.5, 0.5, 0.5), (0.5, 0.5, 0.5))]\n",
    ")\n",
    "\n",
    "testset = torchvision.datasets.CIFAR10(\n",
    "    root=\"./data\", train=False, download=True, transform=transform_test\n",
    ")\n",
    "testloader = torch.utils.data.DataLoader(testset, batch_size=32, shuffle=False, num_workers=2)  # type: ignore\n",
    "\n",
    "\n",
    "model.to('cuda')\n",
    "model.eval()\n",
    "def test():\n",
    "    correct = 0\n",
    "    total = 0\n",
    "    with torch.no_grad():\n",
    "        for data in testloader:\n",
    "            images, labels = data\n",
    "            images = images.to('cuda')\n",
    "            labels = labels.to('cuda')\n",
    "            outputs = model(images)\n",
    "            _, predicted = torch.max(outputs.data, 1)\n",
    "            total += labels.size(0)\n",
    "            correct += (predicted == labels).sum().item()\n",
    "\n",
    "    print(f'Accuracy: {(100 * correct / total):.2f}%')\n",
    "\n",
    "\n",
    "test()"
   ]
  },
  {
   "cell_type": "code",
   "execution_count": null,
   "metadata": {},
   "outputs": [],
   "source": [
    "import torch\n",
    "import torchvision\n",
    "import torchvision.transforms as transforms\n",
    "from torch.utils.tensorboard import SummaryWriter  # type: ignore\n",
    "from cvit.model import Net\n",
    "\n",
    "\n",
    "transform_test = transforms.Compose(\n",
    "    [transforms.ToTensor(), transforms.Normalize((0.5, 0.5, 0.5), (0.5, 0.5, 0.5))]\n",
    ")\n",
    "\n",
    "testset = torchvision.datasets.CIFAR10(\n",
    "    root=\"./data\", train=False, download=True, transform=transform_test\n",
    ")\n",
    "testloader = torch.utils.data.DataLoader(testset, batch_size=24, shuffle=False, num_workers=2)  # type: ignore\n",
    "\n",
    "model = Net()\n",
    "model.eval()\n",
    "\n",
    "writer = SummaryWriter(\"runs/cifar10\")\n",
    "\n",
    "with torch.no_grad():\n",
    "    for images, labels in testloader:\n",
    "        outputs = model(images)\n",
    "        _, predicted = torch.max(outputs, 1)\n",
    "\n",
    "        # 找出预测错误的样本\n",
    "        incorrect_idx = torch.nonzero(predicted != labels).squeeze()\n",
    "        for i, idx in enumerate(incorrect_idx):\n",
    "            if i > 10:\n",
    "                break\n",
    "            image = images[idx]  # 获取错误图像\n",
    "            true_label = testset.classes[labels[idx]]  # 真实标签\n",
    "            predicted_label = testset.classes[predicted[idx]]  # 预测标签\n",
    "\n",
    "            # 将图像写入TensorBoard\n",
    "            writer.add_image(f\"Error_{idx}\", image, global_step=idx, dataformats=\"CHW\")\n",
    "            writer.add_text(\n",
    "                f\"Label_{idx}\",\n",
    "                f\"True: {true_label}, Predicted: {predicted_label}\",\n",
    "                global_step=idx,\n",
    "            )\n",
    "\n",
    "writer.close()"
   ]
  }
 ],
 "metadata": {
  "kernelspec": {
   "display_name": "pytorch_gpu",
   "language": "python",
   "name": "python3"
  },
  "language_info": {
   "codemirror_mode": {
    "name": "ipython",
    "version": 3
   },
   "file_extension": ".py",
   "mimetype": "text/x-python",
   "name": "python",
   "nbconvert_exporter": "python",
   "pygments_lexer": "ipython3",
   "version": "3.12.2"
  }
 },
 "nbformat": 4,
 "nbformat_minor": 2
}
